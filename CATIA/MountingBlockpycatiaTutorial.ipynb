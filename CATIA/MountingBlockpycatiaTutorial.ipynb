{
 "cells": [
  {
   "cell_type": "code",
   "execution_count": null,
   "id": "80f268bc-1747-49fa-b47d-b233f0e87706",
   "metadata": {},
   "outputs": [],
   "source": [
    "# imports \n",
    "from pycatia import catia\n",
    "import math"
   ]
  },
  {
   "cell_type": "code",
   "execution_count": null,
   "id": "99b90546-b6cb-40b3-81b6-86aee10c51af",
   "metadata": {},
   "outputs": [],
   "source": [
    "# catia object create \n",
    "caa = catia()"
   ]
  },
  {
   "cell_type": "code",
   "execution_count": null,
   "id": "a853838a-4a37-45a5-aec1-c093065ddec9",
   "metadata": {},
   "outputs": [],
   "source": [
    "# Select the work document \n",
    "document = caa.documents[1]"
   ]
  },
  {
   "cell_type": "code",
   "execution_count": null,
   "id": "d3e65806-4351-4c5d-b380-ff46e51a7f4f",
   "metadata": {},
   "outputs": [],
   "source": [
    "# document name\n",
    "document.com_object.Name"
   ]
  },
  {
   "cell_type": "code",
   "execution_count": null,
   "id": "bb068289-92a3-4627-b587-46fbcd9e5469",
   "metadata": {},
   "outputs": [],
   "source": [
    "# Get Part from Document\n",
    "part = document.com_object.Part"
   ]
  },
  {
   "cell_type": "code",
   "execution_count": null,
   "id": "1d0eb3c4-8eea-49c9-a50e-bed95823c1f5",
   "metadata": {},
   "outputs": [],
   "source": [
    "# Get Bodies \n",
    "bodies = part.Bodies"
   ]
  },
  {
   "cell_type": "code",
   "execution_count": null,
   "id": "b1fd6421-bf35-4c12-aaa0-8cffb43f410d",
   "metadata": {},
   "outputs": [],
   "source": [
    "# Bodies Count \n",
    "bodies.Count"
   ]
  },
  {
   "cell_type": "code",
   "execution_count": null,
   "id": "cfcbb9c3-24d1-47a0-9968-f73fb123e281",
   "metadata": {},
   "outputs": [],
   "source": [
    "# Select body for Sketch\n",
    "body = bodies[0]"
   ]
  },
  {
   "cell_type": "code",
   "execution_count": null,
   "id": "6a20f3f6-f425-45c4-8bdc-ca1688884298",
   "metadata": {},
   "outputs": [],
   "source": [
    "# Get Sketches \n",
    "sketches = body.Sketches"
   ]
  },
  {
   "cell_type": "code",
   "execution_count": null,
   "id": "4cf5724a-ed63-4a9d-9a1b-9bc511207662",
   "metadata": {},
   "outputs": [],
   "source": [
    "# Existing Sketches count \n",
    "sketches.Count"
   ]
  },
  {
   "cell_type": "code",
   "execution_count": null,
   "id": "c2e4a806-9fcf-4f0e-871f-488b9c5c8d72",
   "metadata": {},
   "outputs": [],
   "source": [
    "# Get XY plane \n",
    "plane = part.OriginElements.PlaneXY"
   ]
  },
  {
   "cell_type": "code",
   "execution_count": null,
   "id": "c112ce08-9375-4564-9a04-57caf761f8aa",
   "metadata": {},
   "outputs": [],
   "source": [
    "# Add new sketch with planeXY\n",
    "sketch = sketches.Add(plane)"
   ]
  },
  {
   "cell_type": "code",
   "execution_count": null,
   "id": "e5723d33-669c-4878-aeab-b3f0ad4638f6",
   "metadata": {},
   "outputs": [],
   "source": [
    "# Skecth open edition \n",
    "fac2d1 = sketch.OpenEdition()"
   ]
  },
  {
   "cell_type": "code",
   "execution_count": null,
   "id": "b4ce984f-95ef-4372-8a15-bd9acfeaf1b7",
   "metadata": {},
   "outputs": [],
   "source": [
    "# Sketch points \n",
    "p1 = (0, 0)\n",
    "p2 = (0, 30)\n",
    "p3 = (20, 30) \n",
    "p4 = (20, 0) \n",
    "\n",
    "Radius = 15;\n",
    "xCenter = 20;\n",
    "yCenter = 15;\n",
    "stParam = (math.pi/2 )+ math.pi;\n",
    "etParam =  (3*math.pi/2) + math.pi;"
   ]
  },
  {
   "cell_type": "code",
   "execution_count": null,
   "id": "a84e5718-bb1e-45c8-bca5-08d0aadb6640",
   "metadata": {},
   "outputs": [],
   "source": [
    "# Lines create for sketch \n",
    "fac2d1.CreateLine(*p1,*p2)  # line(p1, p2) \n",
    "fac2d1.CreateLine(*p2, *p3)  # line(p2, p3)\n",
    "\n",
    "# create circle\n",
    "fac2d1.CreateCircle(xCenter, yCenter, Radius, stParam, etParam)  # create circle of center, radius, angle \n",
    "\n",
    "fac2d1.CreateLine(*p4, *p1)   # line(p4, p1)"
   ]
  },
  {
   "cell_type": "code",
   "execution_count": null,
   "id": "ce97a555-ea8c-4066-bfb6-16cae53342df",
   "metadata": {},
   "outputs": [],
   "source": [
    "# part update \n",
    "part.Update()"
   ]
  },
  {
   "cell_type": "code",
   "execution_count": null,
   "id": "2029592c-279a-4db3-ad77-adfabe0fee7f",
   "metadata": {},
   "outputs": [],
   "source": [
    "# sketch close edition \n",
    "sketch.CloseEdition()"
   ]
  },
  {
   "cell_type": "code",
   "execution_count": null,
   "id": "b1948d77-6194-4fb2-bd7e-5d4b5071e5fd",
   "metadata": {},
   "outputs": [],
   "source": [
    "# ShapeFactory create\n",
    "shpfac = part.ShapeFactory"
   ]
  },
  {
   "cell_type": "code",
   "execution_count": null,
   "id": "50a7746c-7b84-4e8e-964b-c8e4bdd0b7f3",
   "metadata": {},
   "outputs": [],
   "source": [
    "# pad of sketch1\n",
    "pad1 = shpfac.AddNewPad(sketch, 10)  # pad(skecth, 10)"
   ]
  },
  {
   "cell_type": "code",
   "execution_count": null,
   "id": "a8f60c41-28b0-4b28-83da-78f34957b3c0",
   "metadata": {},
   "outputs": [],
   "source": [
    "# part update \n",
    "part.Update()"
   ]
  },
  {
   "cell_type": "code",
   "execution_count": null,
   "id": "b6ad36da-22e7-4b14-9235-359134931ddd",
   "metadata": {},
   "outputs": [],
   "source": [
    "# Create new sketch as sketch2\n",
    "sketch2 = sketches.Add(plane)  # new skecth with ref XY plane"
   ]
  },
  {
   "cell_type": "code",
   "execution_count": null,
   "id": "f637e200-a93e-4acd-98ce-5940b1b4083e",
   "metadata": {},
   "outputs": [],
   "source": [
    "# skecth2 open edition | fac2d2\n",
    "fac2d2 = sketch2.OpenEdition()"
   ]
  },
  {
   "cell_type": "code",
   "execution_count": null,
   "id": "ae8c4abe-ce9a-4852-9bad-f737dcb3a842",
   "metadata": {},
   "outputs": [],
   "source": [
    "# sketch2 create( profile pocket circle)\n",
    "circleRad = 10/2;\n",
    "fac2d2.CreateClosedCircle(xCenter, yCenter, circleRad)  # create closed circle for pocket "
   ]
  },
  {
   "cell_type": "code",
   "execution_count": null,
   "id": "88bf2132-480c-44c6-8d0a-427b91aaa56e",
   "metadata": {},
   "outputs": [],
   "source": [
    "# sketch2 close edition \n",
    "sketch2.CloseEdition()"
   ]
  },
  {
   "cell_type": "code",
   "execution_count": null,
   "id": "51e0ea92-a959-4306-b9fb-e19e64dcb27e",
   "metadata": {},
   "outputs": [],
   "source": [
    "# add new pocket in profile\n",
    "shpfac.AddNewPocket(sketch2, -20)  # pocket(-20)"
   ]
  },
  {
   "cell_type": "code",
   "execution_count": null,
   "id": "0275ee95-4731-42ab-aa81-a2b6e36867ce",
   "metadata": {},
   "outputs": [],
   "source": [
    "# part update\n",
    "part.Update()"
   ]
  },
  {
   "cell_type": "code",
   "execution_count": null,
   "id": "ddb93d94-e718-40b4-8ac0-467f81a2b151",
   "metadata": {},
   "outputs": [],
   "source": [
    "# Create new sketch as sketch3\n",
    "sketch3 = sketches.Add(plane)"
   ]
  },
  {
   "cell_type": "code",
   "execution_count": null,
   "id": "73c42ca6-38b5-45bd-989c-6c3d3d71b4ee",
   "metadata": {},
   "outputs": [],
   "source": [
    "# Sketch3 edition open | fac2d3 \n",
    "fac2d3 = sketch3.OpenEdition()"
   ]
  },
  {
   "cell_type": "code",
   "execution_count": null,
   "id": "74515e09-21d0-482d-a3cd-96f517825efa",
   "metadata": {},
   "outputs": [],
   "source": [
    "p5 = (0, 40) \n",
    "p6 = (-25, 40)\n",
    "p7 = (-25, 0) "
   ]
  },
  {
   "cell_type": "code",
   "execution_count": null,
   "id": "f3ed5ec2-33a5-4820-ac0c-973901796a4b",
   "metadata": {},
   "outputs": [],
   "source": [
    "# sketch3 draw and padding \n",
    "fac2d3.CreateLine(*p1, *p5)  #line(p1, p5)\n",
    "fac2d3.CreateLine(*p5, *p6)  #line(p5, p6)\n",
    "fac2d3.CreateLine(*p6, *p7)  #line(p6, p7)\n",
    "fac2d3.CreateLine(*p7, *p1)  #line(p7, p1) \n",
    "pad2 = shpfac.AddNewPad(sketch3, 10)  # pad(skt3, 10) as pad2 \n"
   ]
  },
  {
   "cell_type": "code",
   "execution_count": null,
   "id": "d62a7ca9-b744-4c52-9dc2-9999cf5b7f19",
   "metadata": {},
   "outputs": [],
   "source": [
    "# Sketch3 close and part update\n",
    "sketch3.CloseEdition()\n",
    "part.Update()"
   ]
  },
  {
   "cell_type": "code",
   "execution_count": null,
   "id": "341f29bd-eac0-4b97-9084-f8ea58bb7b0a",
   "metadata": {},
   "outputs": [],
   "source": []
  },
  {
   "cell_type": "code",
   "execution_count": null,
   "id": "cf9abda5-e734-4601-aa71-3c2f22f06093",
   "metadata": {},
   "outputs": [],
   "source": [
    "# Create reference plane for wall sketch\n",
    "refSurf1 = part.CreateReferenceFromName(\n",
    "    f\"Selection_RSur:(Face:(Brp:((Brp:({pad2.Name};2);Brp:({pad1.Name};2)));None:();Cf14:());{pad2.Name}_ResultOUT;Z0;G11099)\");"
   ]
  },
  {
   "cell_type": "code",
   "execution_count": null,
   "id": "04aa924a-a90a-48a6-ade7-3ff5885b40c6",
   "metadata": {},
   "outputs": [],
   "source": [
    "# Add sketch for wall draw | wall \n",
    "wall = sketches.Add(refSurf1)  # create sketch with refSurf1 as plane "
   ]
  },
  {
   "cell_type": "code",
   "execution_count": null,
   "id": "9a0f6177-fdc9-4f3c-b2d0-da756bcd4617",
   "metadata": {},
   "outputs": [],
   "source": [
    "# wall open edition | fac2d4 \n",
    "fac2d4 = wall.OpenEdition()"
   ]
  },
  {
   "cell_type": "code",
   "execution_count": null,
   "id": "8e56c287-c91e-4084-926b-5beeeceb9444",
   "metadata": {},
   "outputs": [],
   "source": [
    "p8 = (0, 0)\n",
    "p9 = (0, 40) \n",
    "p10 = (-10, 40)\n",
    "p11 = (-10, 10) \n",
    "p12 = (-25, 10)\n",
    "p13  = (-25, 0)\n"
   ]
  },
  {
   "cell_type": "code",
   "execution_count": null,
   "id": "5502b51f-c0bf-4e86-ad0a-d690c74a99df",
   "metadata": {},
   "outputs": [],
   "source": [
    "# wall sketch draw \n",
    "fac2d4.CreateLine(*p8, *p9)  # line(p8, p9)\n",
    "fac2d4.CreateLine(*p9, *p10)  # line(p9, p10)\n",
    "fac2d4.CreateLine(*p10, *p11)  # line(p10, p11)\n",
    "fac2d4.CreateLine(*p11, *p12)  # line(p11, p12)\n",
    "fac2d4.CreateLine(*p12, *p13)  # line(p12, p13)\n",
    "fac2d4.CreateLine(*p13, *p8)  # line(p13, p8)"
   ]
  },
  {
   "cell_type": "code",
   "execution_count": null,
   "id": "39bb10ba-f985-4dc8-a7a7-089e4de6ee14",
   "metadata": {},
   "outputs": [],
   "source": [
    "# wall close edition \n",
    "wall.CloseEdition()"
   ]
  },
  {
   "cell_type": "code",
   "execution_count": null,
   "id": "fa34af62-db44-4805-ab51-e4897b54da9f",
   "metadata": {},
   "outputs": [],
   "source": [
    "# Wall padding create | pad3 \n",
    "pad3 = shpfac.AddNewPad(wall, 60)  # pad(wall, 60) "
   ]
  },
  {
   "cell_type": "code",
   "execution_count": null,
   "id": "31a5b3f1-4114-491a-bbb1-c613cddf3879",
   "metadata": {},
   "outputs": [],
   "source": [
    "# part update\n",
    "part.Update()"
   ]
  },
  {
   "cell_type": "code",
   "execution_count": null,
   "id": "6877294f-5bbb-49f2-90a8-09878fe60d1b",
   "metadata": {},
   "outputs": [],
   "source": [
    "# Create ref surface of support sketch\n",
    "refSurf2 = part.CreateReferenceFromName(\n",
    "    f\"Selection_RSur:(Face:(Brp:({pad3.Name};0:(Brp:({wall.Name};3)));None:();Cf14:());{pad3.Name}_ResultOUT;Z0;G11099)\");"
   ]
  },
  {
   "cell_type": "code",
   "execution_count": null,
   "id": "7a6a079a-dc18-4f34-93b0-a74abcf149e1",
   "metadata": {},
   "outputs": [],
   "source": [
    "# create new sketch for support | support \n",
    "support = sketches.Add(refSurf2)  # create support sketch with refSurf2 as plane "
   ]
  },
  {
   "cell_type": "code",
   "execution_count": null,
   "id": "68aca3a1-edd1-48ef-b849-5ce8dad588e1",
   "metadata": {},
   "outputs": [],
   "source": [
    "# support edition open | fac2d5\n",
    "fac2d5 = support.OpenEdition()"
   ]
  },
  {
   "cell_type": "code",
   "execution_count": null,
   "id": "95812305-a571-4491-8c3d-fa95f7e183d2",
   "metadata": {},
   "outputs": [],
   "source": [
    "p14 = (30, 60)\n",
    "p15 = (30, 0) \n"
   ]
  },
  {
   "cell_type": "code",
   "execution_count": null,
   "id": "10232e12-a94c-4701-b6f4-b7e070ed568c",
   "metadata": {},
   "outputs": [],
   "source": [
    "# support sketch draw\n",
    "fac2d5.CreateLine(*p8, *p14)  # line(p8, p14)\n",
    "fac2d5.CreateLine(*p14, *p15) # line(p14, p15)\n",
    "fac2d5.CreateLine(*p15, *p8)  # line(p15, p8)\n",
    "support.CloseEdition()  # close edition \n",
    "pad4 = shpfac.AddNewPad(support, 15)  # pad(support, 15) | pad4 \n",
    "part.Update()  # part update "
   ]
  },
  {
   "cell_type": "code",
   "execution_count": null,
   "id": "d7b97259-e9ec-4a0c-a20e-651270f33837",
   "metadata": {},
   "outputs": [],
   "source": [
    "# face selection tuple \n",
    "face = (\"Face\", )"
   ]
  },
  {
   "cell_type": "code",
   "execution_count": null,
   "id": "93548bab-f581-4bb5-9f82-72594a2faef3",
   "metadata": {},
   "outputs": [],
   "source": [
    "# caa com\n",
    "caa_com = caa.com_object"
   ]
  },
  {
   "cell_type": "code",
   "execution_count": null,
   "id": "961b201b-a351-4554-8fd1-a201c7809786",
   "metadata": {},
   "outputs": [],
   "source": [
    "# Selection object create | selection \n",
    "selection = caa_com.ActiveEditor.Selection"
   ]
  },
  {
   "cell_type": "code",
   "execution_count": null,
   "id": "c9c1b368-0d54-4286-8c0e-4967caa64650",
   "metadata": {},
   "outputs": [],
   "source": [
    "# Selection of Mirror plane \n",
    "selection.SelectElement2(face, \"Select a face for mirror\", False)"
   ]
  },
  {
   "cell_type": "code",
   "execution_count": null,
   "id": "83153b8f-ac97-4840-a0e5-28c18672d5d1",
   "metadata": {},
   "outputs": [],
   "source": [
    "# Getting mirror plane object | mirror_face\n",
    "mirror_plane = selection.Item2(1).Value"
   ]
  },
  {
   "cell_type": "code",
   "execution_count": null,
   "id": "7ffc9946-db18-4f6b-9f1c-2f67cf2ec2bf",
   "metadata": {},
   "outputs": [],
   "source": [
    "# Adding mirror for current solid  | mirror \n",
    "shpfac.AddNewMirror(mirror_plane)"
   ]
  },
  {
   "cell_type": "code",
   "execution_count": null,
   "id": "09c57ba3-c726-431c-9d57-76c109b149da",
   "metadata": {},
   "outputs": [],
   "source": [
    "# Part Update\n",
    "part.Update()"
   ]
  },
  {
   "cell_type": "code",
   "execution_count": null,
   "id": "528fad0b-38b1-4b9d-b3d9-f55f4fcffaa2",
   "metadata": {},
   "outputs": [],
   "source": []
  }
 ],
 "metadata": {
  "kernelspec": {
   "display_name": "Python 3 (ipykernel)",
   "language": "python",
   "name": "python3"
  },
  "language_info": {
   "codemirror_mode": {
    "name": "ipython",
    "version": 3
   },
   "file_extension": ".py",
   "mimetype": "text/x-python",
   "name": "python",
   "nbconvert_exporter": "python",
   "pygments_lexer": "ipython3",
   "version": "3.8.18"
  }
 },
 "nbformat": 4,
 "nbformat_minor": 5
}
